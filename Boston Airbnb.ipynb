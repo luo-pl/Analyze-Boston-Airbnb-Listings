{
 "cells": [
  {
   "cell_type": "markdown",
   "id": "22b30b37-0094-453f-864f-a9214cc18a1a",
   "metadata": {},
   "source": [
    "# 0. Import Libraries"
   ]
  },
  {
   "cell_type": "code",
   "execution_count": 71,
   "id": "3d04cf8a-44f6-492e-a0e5-0ad426c4c5cf",
   "metadata": {},
   "outputs": [],
   "source": [
    "import numpy as np\n",
    "import pandas as pd\n",
    "import seaborn as sns\n",
    "import matplotlib as mpl\n",
    "import matplotlib.pyplot as plt\n",
    "%matplotlib inline\n",
    "import re\n",
    "import os\n",
    "from os import path\n",
    "from PIL import Image\n",
    "from wordcloud import WordCloud, STOPWORDS, ImageColorGenerator\n",
    "from textblob import TextBlob\n",
    "from textblob.sentiments import NaiveBayesAnalyzer\n",
    "from sklearn.linear_model import LinearRegression\n",
    "from sklearn.tree import DecisionTreeRegressor\n",
    "from sklearn.ensemble import RandomForestRegressor\n",
    "from sklearn.model_selection import train_test_split, RandomizedSearchCV\n",
    "from scipy.stats import randint\n",
    "from sklearn.preprocessing import OneHotEncoder, StandardScaler\n",
    "from sklearn.impute import SimpleImputer\n",
    "from sklearn.pipeline import Pipeline\n",
    "from sklearn.compose import ColumnTransformer\n",
    "from sklearn.metrics import r2_score, mean_squared_error, mean_absolute_error\n",
    "import warnings\n",
    "warnings.filterwarnings(\"ignore\")"
   ]
  },
  {
   "cell_type": "markdown",
   "id": "4db09d13-69db-44c9-b40f-4135712483c0",
   "metadata": {},
   "source": [
    "# 1. Set up"
   ]
  },
  {
   "cell_type": "code",
   "execution_count": 72,
   "id": "f45c560f-2e07-4201-ab95-2e99840d8638",
   "metadata": {},
   "outputs": [],
   "source": [
    "# Where to save the figures\n",
    "\n",
    "PROJECT_ROOT_DIR = \".\"\n",
    "CHAPTER_ID = \"DSND_Project_1\"\n",
    "IMAGES_PATH = os.path.join(PROJECT_ROOT_DIR, \"images\", CHAPTER_ID)\n",
    "os.makedirs(IMAGES_PATH, exist_ok=True)\n",
    "\n",
    "def save_fig(fig_id, tight_layout=True, fig_extension=\"png\", resolution=300):\n",
    "    \"\"\"\n",
    "    This function receives a figure title and returns the figure saved in a designated folder.\n",
    "    The default setting creates a png file of resolution 300 with tight layout.\n",
    "    There is a notification telling you that the figure is being saved.\n",
    "    \"\"\"\n",
    "    path = os.path.join(IMAGES_PATH, fig_id + \".\" + fig_extension)\n",
    "    print(\"Saving figure\", fig_id)\n",
    "    if tight_layout:\n",
    "        plt.tight_layout()\n",
    "    plt.savefig(path, format=fig_extension, dpi=resolution)"
   ]
  },
  {
   "cell_type": "markdown",
   "id": "68ec333d-a6a7-43dd-9397-c7e795c49598",
   "metadata": {},
   "source": [
    "# 2. Business understanding"
   ]
  },
  {
   "cell_type": "markdown",
   "id": "4d987b7a",
   "metadata": {},
   "source": [
    "This project aims to analyze the data from Boston Airbnb dataset and answer the following questions:\n",
    "\n",
    "- What’s it like living in a Boston neighborhood?\n",
    "- Overall, how do people rate Boston Airbnb’s (negative, neutral, or positive)?\n",
    "- What are the factors that influence price?"
   ]
  },
  {
   "cell_type": "markdown",
   "id": "c0d07507-24bd-405e-b8df-9f4b92eb2f09",
   "metadata": {},
   "source": [
    "# 3. Data understanding"
   ]
  },
  {
   "cell_type": "markdown",
   "id": "341e7ca9-1581-495c-9340-7a4b0eddcae7",
   "metadata": {},
   "source": [
    "## Overall information"
   ]
  },
  {
   "cell_type": "code",
   "execution_count": 74,
   "id": "7518f45f-52ab-4f53-bab1-919fa0610897",
   "metadata": {},
   "outputs": [],
   "source": [
    "listings = pd.read_csv(\"./listings.csv\")"
   ]
  },
  {
   "cell_type": "code",
   "execution_count": 75,
   "id": "03226bc2-56ae-40d8-8054-ea6d067ebdcc",
   "metadata": {},
   "outputs": [
    {
     "data": {
      "text/html": [
       "<div>\n",
       "<style scoped>\n",
       "    .dataframe tbody tr th:only-of-type {\n",
       "        vertical-align: middle;\n",
       "    }\n",
       "\n",
       "    .dataframe tbody tr th {\n",
       "        vertical-align: top;\n",
       "    }\n",
       "\n",
       "    .dataframe thead th {\n",
       "        text-align: right;\n",
       "    }\n",
       "</style>\n",
       "<table border=\"1\" class=\"dataframe\">\n",
       "  <thead>\n",
       "    <tr style=\"text-align: right;\">\n",
       "      <th></th>\n",
       "      <th>id</th>\n",
       "      <th>listing_url</th>\n",
       "      <th>scrape_id</th>\n",
       "      <th>last_scraped</th>\n",
       "      <th>name</th>\n",
       "      <th>summary</th>\n",
       "      <th>space</th>\n",
       "      <th>description</th>\n",
       "      <th>experiences_offered</th>\n",
       "      <th>neighborhood_overview</th>\n",
       "      <th>...</th>\n",
       "      <th>review_scores_value</th>\n",
       "      <th>requires_license</th>\n",
       "      <th>license</th>\n",
       "      <th>jurisdiction_names</th>\n",
       "      <th>instant_bookable</th>\n",
       "      <th>cancellation_policy</th>\n",
       "      <th>require_guest_profile_picture</th>\n",
       "      <th>require_guest_phone_verification</th>\n",
       "      <th>calculated_host_listings_count</th>\n",
       "      <th>reviews_per_month</th>\n",
       "    </tr>\n",
       "  </thead>\n",
       "  <tbody>\n",
       "    <tr>\n",
       "      <th>0</th>\n",
       "      <td>12147973</td>\n",
       "      <td>https://www.airbnb.com/rooms/12147973</td>\n",
       "      <td>20160906204935</td>\n",
       "      <td>2016-09-07</td>\n",
       "      <td>Sunny Bungalow in the City</td>\n",
       "      <td>Cozy, sunny, family home.  Master bedroom high...</td>\n",
       "      <td>The house has an open and cozy feel at the sam...</td>\n",
       "      <td>Cozy, sunny, family home.  Master bedroom high...</td>\n",
       "      <td>none</td>\n",
       "      <td>Roslindale is quiet, convenient and friendly. ...</td>\n",
       "      <td>...</td>\n",
       "      <td>NaN</td>\n",
       "      <td>f</td>\n",
       "      <td>NaN</td>\n",
       "      <td>NaN</td>\n",
       "      <td>f</td>\n",
       "      <td>moderate</td>\n",
       "      <td>f</td>\n",
       "      <td>f</td>\n",
       "      <td>1</td>\n",
       "      <td>NaN</td>\n",
       "    </tr>\n",
       "    <tr>\n",
       "      <th>1</th>\n",
       "      <td>3075044</td>\n",
       "      <td>https://www.airbnb.com/rooms/3075044</td>\n",
       "      <td>20160906204935</td>\n",
       "      <td>2016-09-07</td>\n",
       "      <td>Charming room in pet friendly apt</td>\n",
       "      <td>Charming and quiet room in a second floor 1910...</td>\n",
       "      <td>Small but cozy and quite room with a full size...</td>\n",
       "      <td>Charming and quiet room in a second floor 1910...</td>\n",
       "      <td>none</td>\n",
       "      <td>The room is in Roslindale, a diverse and prima...</td>\n",
       "      <td>...</td>\n",
       "      <td>9.0</td>\n",
       "      <td>f</td>\n",
       "      <td>NaN</td>\n",
       "      <td>NaN</td>\n",
       "      <td>t</td>\n",
       "      <td>moderate</td>\n",
       "      <td>f</td>\n",
       "      <td>f</td>\n",
       "      <td>1</td>\n",
       "      <td>1.30</td>\n",
       "    </tr>\n",
       "    <tr>\n",
       "      <th>2</th>\n",
       "      <td>6976</td>\n",
       "      <td>https://www.airbnb.com/rooms/6976</td>\n",
       "      <td>20160906204935</td>\n",
       "      <td>2016-09-07</td>\n",
       "      <td>Mexican Folk Art Haven in Boston</td>\n",
       "      <td>Come stay with a friendly, middle-aged guy in ...</td>\n",
       "      <td>Come stay with a friendly, middle-aged guy in ...</td>\n",
       "      <td>Come stay with a friendly, middle-aged guy in ...</td>\n",
       "      <td>none</td>\n",
       "      <td>The LOCATION: Roslindale is a safe and diverse...</td>\n",
       "      <td>...</td>\n",
       "      <td>10.0</td>\n",
       "      <td>f</td>\n",
       "      <td>NaN</td>\n",
       "      <td>NaN</td>\n",
       "      <td>f</td>\n",
       "      <td>moderate</td>\n",
       "      <td>t</td>\n",
       "      <td>f</td>\n",
       "      <td>1</td>\n",
       "      <td>0.47</td>\n",
       "    </tr>\n",
       "    <tr>\n",
       "      <th>3</th>\n",
       "      <td>1436513</td>\n",
       "      <td>https://www.airbnb.com/rooms/1436513</td>\n",
       "      <td>20160906204935</td>\n",
       "      <td>2016-09-07</td>\n",
       "      <td>Spacious Sunny Bedroom Suite in Historic Home</td>\n",
       "      <td>Come experience the comforts of home away from...</td>\n",
       "      <td>Most places you find in Boston are small howev...</td>\n",
       "      <td>Come experience the comforts of home away from...</td>\n",
       "      <td>none</td>\n",
       "      <td>Roslindale is a lovely little neighborhood loc...</td>\n",
       "      <td>...</td>\n",
       "      <td>10.0</td>\n",
       "      <td>f</td>\n",
       "      <td>NaN</td>\n",
       "      <td>NaN</td>\n",
       "      <td>f</td>\n",
       "      <td>moderate</td>\n",
       "      <td>f</td>\n",
       "      <td>f</td>\n",
       "      <td>1</td>\n",
       "      <td>1.00</td>\n",
       "    </tr>\n",
       "    <tr>\n",
       "      <th>4</th>\n",
       "      <td>7651065</td>\n",
       "      <td>https://www.airbnb.com/rooms/7651065</td>\n",
       "      <td>20160906204935</td>\n",
       "      <td>2016-09-07</td>\n",
       "      <td>Come Home to Boston</td>\n",
       "      <td>My comfy, clean and relaxing home is one block...</td>\n",
       "      <td>Clean, attractive, private room, one block fro...</td>\n",
       "      <td>My comfy, clean and relaxing home is one block...</td>\n",
       "      <td>none</td>\n",
       "      <td>I love the proximity to downtown, the neighbor...</td>\n",
       "      <td>...</td>\n",
       "      <td>10.0</td>\n",
       "      <td>f</td>\n",
       "      <td>NaN</td>\n",
       "      <td>NaN</td>\n",
       "      <td>f</td>\n",
       "      <td>flexible</td>\n",
       "      <td>f</td>\n",
       "      <td>f</td>\n",
       "      <td>1</td>\n",
       "      <td>2.25</td>\n",
       "    </tr>\n",
       "  </tbody>\n",
       "</table>\n",
       "<p>5 rows × 95 columns</p>\n",
       "</div>"
      ],
      "text/plain": [
       "         id                            listing_url       scrape_id  \\\n",
       "0  12147973  https://www.airbnb.com/rooms/12147973  20160906204935   \n",
       "1   3075044   https://www.airbnb.com/rooms/3075044  20160906204935   \n",
       "2      6976      https://www.airbnb.com/rooms/6976  20160906204935   \n",
       "3   1436513   https://www.airbnb.com/rooms/1436513  20160906204935   \n",
       "4   7651065   https://www.airbnb.com/rooms/7651065  20160906204935   \n",
       "\n",
       "  last_scraped                                           name  \\\n",
       "0   2016-09-07                     Sunny Bungalow in the City   \n",
       "1   2016-09-07              Charming room in pet friendly apt   \n",
       "2   2016-09-07               Mexican Folk Art Haven in Boston   \n",
       "3   2016-09-07  Spacious Sunny Bedroom Suite in Historic Home   \n",
       "4   2016-09-07                            Come Home to Boston   \n",
       "\n",
       "                                             summary  \\\n",
       "0  Cozy, sunny, family home.  Master bedroom high...   \n",
       "1  Charming and quiet room in a second floor 1910...   \n",
       "2  Come stay with a friendly, middle-aged guy in ...   \n",
       "3  Come experience the comforts of home away from...   \n",
       "4  My comfy, clean and relaxing home is one block...   \n",
       "\n",
       "                                               space  \\\n",
       "0  The house has an open and cozy feel at the sam...   \n",
       "1  Small but cozy and quite room with a full size...   \n",
       "2  Come stay with a friendly, middle-aged guy in ...   \n",
       "3  Most places you find in Boston are small howev...   \n",
       "4  Clean, attractive, private room, one block fro...   \n",
       "\n",
       "                                         description experiences_offered  \\\n",
       "0  Cozy, sunny, family home.  Master bedroom high...                none   \n",
       "1  Charming and quiet room in a second floor 1910...                none   \n",
       "2  Come stay with a friendly, middle-aged guy in ...                none   \n",
       "3  Come experience the comforts of home away from...                none   \n",
       "4  My comfy, clean and relaxing home is one block...                none   \n",
       "\n",
       "                               neighborhood_overview  ... review_scores_value  \\\n",
       "0  Roslindale is quiet, convenient and friendly. ...  ...                 NaN   \n",
       "1  The room is in Roslindale, a diverse and prima...  ...                 9.0   \n",
       "2  The LOCATION: Roslindale is a safe and diverse...  ...                10.0   \n",
       "3  Roslindale is a lovely little neighborhood loc...  ...                10.0   \n",
       "4  I love the proximity to downtown, the neighbor...  ...                10.0   \n",
       "\n",
       "  requires_license license jurisdiction_names instant_bookable  \\\n",
       "0                f     NaN                NaN                f   \n",
       "1                f     NaN                NaN                t   \n",
       "2                f     NaN                NaN                f   \n",
       "3                f     NaN                NaN                f   \n",
       "4                f     NaN                NaN                f   \n",
       "\n",
       "  cancellation_policy require_guest_profile_picture  \\\n",
       "0            moderate                             f   \n",
       "1            moderate                             f   \n",
       "2            moderate                             t   \n",
       "3            moderate                             f   \n",
       "4            flexible                             f   \n",
       "\n",
       "  require_guest_phone_verification calculated_host_listings_count  \\\n",
       "0                                f                              1   \n",
       "1                                f                              1   \n",
       "2                                f                              1   \n",
       "3                                f                              1   \n",
       "4                                f                              1   \n",
       "\n",
       "   reviews_per_month  \n",
       "0                NaN  \n",
       "1               1.30  \n",
       "2               0.47  \n",
       "3               1.00  \n",
       "4               2.25  \n",
       "\n",
       "[5 rows x 95 columns]"
      ]
     },
     "execution_count": 75,
     "metadata": {},
     "output_type": "execute_result"
    }
   ],
   "source": [
    "listings.head()"
   ]
  },
  {
   "cell_type": "code",
   "execution_count": 76,
   "id": "f60bb9ff-7614-4389-8b2b-de5a1511f926",
   "metadata": {},
   "outputs": [
    {
     "name": "stdout",
     "output_type": "stream",
     "text": [
      "<class 'pandas.core.frame.DataFrame'>\n",
      "RangeIndex: 3585 entries, 0 to 3584\n",
      "Data columns (total 95 columns):\n",
      " #   Column                            Non-Null Count  Dtype  \n",
      "---  ------                            --------------  -----  \n",
      " 0   id                                3585 non-null   int64  \n",
      " 1   listing_url                       3585 non-null   object \n",
      " 2   scrape_id                         3585 non-null   int64  \n",
      " 3   last_scraped                      3585 non-null   object \n",
      " 4   name                              3585 non-null   object \n",
      " 5   summary                           3442 non-null   object \n",
      " 6   space                             2528 non-null   object \n",
      " 7   description                       3585 non-null   object \n",
      " 8   experiences_offered               3585 non-null   object \n",
      " 9   neighborhood_overview             2170 non-null   object \n",
      " 10  notes                             1610 non-null   object \n",
      " 11  transit                           2295 non-null   object \n",
      " 12  access                            2096 non-null   object \n",
      " 13  interaction                       2031 non-null   object \n",
      " 14  house_rules                       2393 non-null   object \n",
      " 15  thumbnail_url                     2986 non-null   object \n",
      " 16  medium_url                        2986 non-null   object \n",
      " 17  picture_url                       3585 non-null   object \n",
      " 18  xl_picture_url                    2986 non-null   object \n",
      " 19  host_id                           3585 non-null   int64  \n",
      " 20  host_url                          3585 non-null   object \n",
      " 21  host_name                         3585 non-null   object \n",
      " 22  host_since                        3585 non-null   object \n",
      " 23  host_location                     3574 non-null   object \n",
      " 24  host_about                        2276 non-null   object \n",
      " 25  host_response_time                3114 non-null   object \n",
      " 26  host_response_rate                3114 non-null   object \n",
      " 27  host_acceptance_rate              3114 non-null   object \n",
      " 28  host_is_superhost                 3585 non-null   object \n",
      " 29  host_thumbnail_url                3585 non-null   object \n",
      " 30  host_picture_url                  3585 non-null   object \n",
      " 31  host_neighbourhood                3246 non-null   object \n",
      " 32  host_listings_count               3585 non-null   int64  \n",
      " 33  host_total_listings_count         3585 non-null   int64  \n",
      " 34  host_verifications                3585 non-null   object \n",
      " 35  host_has_profile_pic              3585 non-null   object \n",
      " 36  host_identity_verified            3585 non-null   object \n",
      " 37  street                            3585 non-null   object \n",
      " 38  neighbourhood                     3042 non-null   object \n",
      " 39  neighbourhood_cleansed            3585 non-null   object \n",
      " 40  neighbourhood_group_cleansed      0 non-null      float64\n",
      " 41  city                              3583 non-null   object \n",
      " 42  state                             3585 non-null   object \n",
      " 43  zipcode                           3547 non-null   object \n",
      " 44  market                            3571 non-null   object \n",
      " 45  smart_location                    3585 non-null   object \n",
      " 46  country_code                      3585 non-null   object \n",
      " 47  country                           3585 non-null   object \n",
      " 48  latitude                          3585 non-null   float64\n",
      " 49  longitude                         3585 non-null   float64\n",
      " 50  is_location_exact                 3585 non-null   object \n",
      " 51  property_type                     3582 non-null   object \n",
      " 52  room_type                         3585 non-null   object \n",
      " 53  accommodates                      3585 non-null   int64  \n",
      " 54  bathrooms                         3571 non-null   float64\n",
      " 55  bedrooms                          3575 non-null   float64\n",
      " 56  beds                              3576 non-null   float64\n",
      " 57  bed_type                          3585 non-null   object \n",
      " 58  amenities                         3585 non-null   object \n",
      " 59  square_feet                       56 non-null     float64\n",
      " 60  price                             3585 non-null   object \n",
      " 61  weekly_price                      892 non-null    object \n",
      " 62  monthly_price                     888 non-null    object \n",
      " 63  security_deposit                  1342 non-null   object \n",
      " 64  cleaning_fee                      2478 non-null   object \n",
      " 65  guests_included                   3585 non-null   int64  \n",
      " 66  extra_people                      3585 non-null   object \n",
      " 67  minimum_nights                    3585 non-null   int64  \n",
      " 68  maximum_nights                    3585 non-null   int64  \n",
      " 69  calendar_updated                  3585 non-null   object \n",
      " 70  has_availability                  0 non-null      float64\n",
      " 71  availability_30                   3585 non-null   int64  \n",
      " 72  availability_60                   3585 non-null   int64  \n",
      " 73  availability_90                   3585 non-null   int64  \n",
      " 74  availability_365                  3585 non-null   int64  \n",
      " 75  calendar_last_scraped             3585 non-null   object \n",
      " 76  number_of_reviews                 3585 non-null   int64  \n",
      " 77  first_review                      2829 non-null   object \n",
      " 78  last_review                       2829 non-null   object \n",
      " 79  review_scores_rating              2772 non-null   float64\n",
      " 80  review_scores_accuracy            2762 non-null   float64\n",
      " 81  review_scores_cleanliness         2767 non-null   float64\n",
      " 82  review_scores_checkin             2765 non-null   float64\n",
      " 83  review_scores_communication       2767 non-null   float64\n",
      " 84  review_scores_location            2763 non-null   float64\n",
      " 85  review_scores_value               2764 non-null   float64\n",
      " 86  requires_license                  3585 non-null   object \n",
      " 87  license                           0 non-null      float64\n",
      " 88  jurisdiction_names                0 non-null      float64\n",
      " 89  instant_bookable                  3585 non-null   object \n",
      " 90  cancellation_policy               3585 non-null   object \n",
      " 91  require_guest_profile_picture     3585 non-null   object \n",
      " 92  require_guest_phone_verification  3585 non-null   object \n",
      " 93  calculated_host_listings_count    3585 non-null   int64  \n",
      " 94  reviews_per_month                 2829 non-null   float64\n",
      "dtypes: float64(18), int64(15), object(62)\n",
      "memory usage: 2.6+ MB\n"
     ]
    }
   ],
   "source": [
    "listings.info()"
   ]
  },
  {
   "cell_type": "code",
   "execution_count": 77,
   "id": "94ba4de3-a6fc-4477-af34-a6a11719f716",
   "metadata": {},
   "outputs": [
    {
     "name": "stdout",
     "output_type": "stream",
     "text": [
      "There are 3585 observations and 95 features in this dataset. \n",
      "\n",
      "There are 33 numerical features in this dataset such as id, scrape_id, host_id, host_listings_count, host_total_listings_count... \n",
      "\n",
      "There are 62 categorical features in this dataset such as listing_url, last_scraped, name, summary, space... \n",
      "\n"
     ]
    }
   ],
   "source": [
    "print(\"There are {} observations and {} features in this dataset. \\n\".format(listings.shape[0], listings.shape[1]))\n",
    "\n",
    "print(\"There are {} numerical features in this dataset such as {}... \\n\".format(len(listings.select_dtypes(['float', 'int']).columns),\n",
    "                                                                           \", \".join(list(listings.select_dtypes(['float', 'int']).columns)[0:5])))\n",
    "\n",
    "print(\"There are {} categorical features in this dataset such as {}... \\n\".format(len(listings.select_dtypes(['object']).columns),\n",
    "                                                                           \", \".join(list(listings.select_dtypes(['object']).columns)[0:5])))"
   ]
  },
  {
   "cell_type": "markdown",
   "id": "827f8fd0-88c8-4a73-8d26-a13cc47fa0be",
   "metadata": {
    "tags": []
   },
   "source": [
    "## Categorical attributes"
   ]
  },
  {
   "cell_type": "code",
   "execution_count": 78,
   "id": "018aae38-6c8f-4551-a425-57a292466200",
   "metadata": {},
   "outputs": [],
   "source": [
    "# Select the categorical features\n",
    "cat_attribs = listings.select_dtypes(include=['object'])\n",
    "cat_attribs = cat_attribs[cat_attribs.columns]"
   ]
  },
  {
   "cell_type": "code",
   "execution_count": 79,
   "id": "fa6abc48-d251-4853-9ce7-2a18a5d1e834",
   "metadata": {},
   "outputs": [
    {
     "data": {
      "text/html": [
       "<div>\n",
       "<style scoped>\n",
       "    .dataframe tbody tr th:only-of-type {\n",
       "        vertical-align: middle;\n",
       "    }\n",
       "\n",
       "    .dataframe tbody tr th {\n",
       "        vertical-align: top;\n",
       "    }\n",
       "\n",
       "    .dataframe thead th {\n",
       "        text-align: right;\n",
       "    }\n",
       "</style>\n",
       "<table border=\"1\" class=\"dataframe\">\n",
       "  <thead>\n",
       "    <tr style=\"text-align: right;\">\n",
       "      <th></th>\n",
       "      <th>categorical attributes</th>\n",
       "      <th>nulls</th>\n",
       "      <th>% of nulls</th>\n",
       "    </tr>\n",
       "  </thead>\n",
       "  <tbody>\n",
       "    <tr>\n",
       "      <th>0</th>\n",
       "      <td>monthly_price</td>\n",
       "      <td>2697</td>\n",
       "      <td>75.230126</td>\n",
       "    </tr>\n",
       "    <tr>\n",
       "      <th>1</th>\n",
       "      <td>weekly_price</td>\n",
       "      <td>2693</td>\n",
       "      <td>75.118550</td>\n",
       "    </tr>\n",
       "    <tr>\n",
       "      <th>2</th>\n",
       "      <td>security_deposit</td>\n",
       "      <td>2243</td>\n",
       "      <td>62.566248</td>\n",
       "    </tr>\n",
       "    <tr>\n",
       "      <th>3</th>\n",
       "      <td>notes</td>\n",
       "      <td>1975</td>\n",
       "      <td>55.090656</td>\n",
       "    </tr>\n",
       "    <tr>\n",
       "      <th>4</th>\n",
       "      <td>interaction</td>\n",
       "      <td>1554</td>\n",
       "      <td>43.347280</td>\n",
       "    </tr>\n",
       "    <tr>\n",
       "      <th>...</th>\n",
       "      <td>...</td>\n",
       "      <td>...</td>\n",
       "      <td>...</td>\n",
       "    </tr>\n",
       "    <tr>\n",
       "      <th>57</th>\n",
       "      <td>street</td>\n",
       "      <td>0</td>\n",
       "      <td>0.000000</td>\n",
       "    </tr>\n",
       "    <tr>\n",
       "      <th>58</th>\n",
       "      <td>neighbourhood_cleansed</td>\n",
       "      <td>0</td>\n",
       "      <td>0.000000</td>\n",
       "    </tr>\n",
       "    <tr>\n",
       "      <th>59</th>\n",
       "      <td>state</td>\n",
       "      <td>0</td>\n",
       "      <td>0.000000</td>\n",
       "    </tr>\n",
       "    <tr>\n",
       "      <th>60</th>\n",
       "      <td>smart_location</td>\n",
       "      <td>0</td>\n",
       "      <td>0.000000</td>\n",
       "    </tr>\n",
       "    <tr>\n",
       "      <th>61</th>\n",
       "      <td>require_guest_phone_verification</td>\n",
       "      <td>0</td>\n",
       "      <td>0.000000</td>\n",
       "    </tr>\n",
       "  </tbody>\n",
       "</table>\n",
       "<p>62 rows × 3 columns</p>\n",
       "</div>"
      ],
      "text/plain": [
       "              categorical attributes  nulls  % of nulls\n",
       "0                      monthly_price   2697   75.230126\n",
       "1                       weekly_price   2693   75.118550\n",
       "2                   security_deposit   2243   62.566248\n",
       "3                              notes   1975   55.090656\n",
       "4                        interaction   1554   43.347280\n",
       "..                               ...    ...         ...\n",
       "57                            street      0    0.000000\n",
       "58            neighbourhood_cleansed      0    0.000000\n",
       "59                             state      0    0.000000\n",
       "60                    smart_location      0    0.000000\n",
       "61  require_guest_phone_verification      0    0.000000\n",
       "\n",
       "[62 rows x 3 columns]"
      ]
     },
     "execution_count": 79,
     "metadata": {},
     "output_type": "execute_result"
    }
   ],
   "source": [
    "# Create a table of missing numerical data with percentage\n",
    "cat_null_total = cat_attribs.isnull().sum().sort_values(ascending=False)\n",
    "cat_null_pct = (cat_attribs.isnull().sum() / cat_attribs.isnull().count() * 100).sort_values(ascending=False)\n",
    "cat_nulls = pd.concat([cat_null_total, cat_null_pct], axis=1, keys=['nulls', '% of nulls']).reset_index().rename(columns={'index' : 'categorical attributes'})\n",
    "cat_nulls"
   ]
  },
  {
   "cell_type": "code",
   "execution_count": 80,
   "id": "537b9aed-0ac2-4a1b-9c36-64831b826d48",
   "metadata": {},
   "outputs": [
    {
     "name": "stdout",
     "output_type": "stream",
     "text": [
      "Saving figure cat_nulls\n"
     ]
    },
    {
     "data": {
      "image/png": "[encoded data removed]",
      "text/plain": [
       "<Figure size 720x720 with 1 Axes>"
      ]
     },
     "metadata": {
      "needs_background": "light"
     },
     "output_type": "display_data"
    }
   ],
   "source": [
    "# Plot % of null values in numercial variables\n",
    "cat_nulls.plot.barh(figsize=(10,10), x='categorical attributes', y='% of nulls', color='green')\n",
    "save_fig('cat_nulls')\n",
    "plt.show()"
   ]
  },
  {
   "cell_type": "code",
   "execution_count": 81,
   "id": "438de8e7-b142-4f3e-b7ae-1a227a541a65",
   "metadata": {},
   "outputs": [],
   "source": [
    "listings['price'] = listings['price'].replace('\\$|,', '', regex=True)\n",
    "listings['price'] = pd.to_numeric(listings['price'])"
   ]
  },
  {
   "cell_type": "markdown",
   "id": "ab8b1d9f-ce4e-4f2f-9a7f-34f762fc9370",
   "metadata": {
    "tags": []
   },
   "source": [
    "## Numerical attributes"
   ]
  },
  {
   "cell_type": "code",
   "execution_count": 82,
   "id": "a3975672-f7c2-4fa8-8724-df82fbf80461",
   "metadata": {},
   "outputs": [],
   "source": [
    "# Select the numerical features\n",
    "num_attribs = listings.select_dtypes(include=['float64', 'int64'])\n",
    "num_attribs = num_attribs[num_attribs.columns]"
   ]
  },
  {
   "cell_type": "code",
   "execution_count": 83,
   "id": "f6202f95-3b7f-40bf-b177-7cbf8f7fa973",
   "metadata": {},
   "outputs": [
    {
     "data": {
      "text/html": [
       "<div>\n",
       "<style scoped>\n",
       "    .dataframe tbody tr th:only-of-type {\n",
       "        vertical-align: middle;\n",
       "    }\n",
       "\n",
       "    .dataframe tbody tr th {\n",
       "        vertical-align: top;\n",
       "    }\n",
       "\n",
       "    .dataframe thead th {\n",
       "        text-align: right;\n",
       "    }\n",
       "</style>\n",
       "<table border=\"1\" class=\"dataframe\">\n",
       "  <thead>\n",
       "    <tr style=\"text-align: right;\">\n",
       "      <th></th>\n",
       "      <th>numerical attributes</th>\n",
       "      <th>nulls</th>\n",
       "      <th>% of nulls</th>\n",
       "    </tr>\n",
       "  </thead>\n",
       "  <tbody>\n",
       "    <tr>\n",
       "      <th>0</th>\n",
       "      <td>has_availability</td>\n",
       "      <td>3585</td>\n",
       "      <td>100.000000</td>\n",
       "    </tr>\n",
       "    <tr>\n",
       "      <th>1</th>\n",
       "      <td>jurisdiction_names</td>\n",
       "      <td>3585</td>\n",
       "      <td>100.000000</td>\n",
       "    </tr>\n",
       "    <tr>\n",
       "      <th>2</th>\n",
       "      <td>license</td>\n",
       "      <td>3585</td>\n",
       "      <td>100.000000</td>\n",
       "    </tr>\n",
       "    <tr>\n",
       "      <th>3</th>\n",
       "      <td>neighbourhood_group_cleansed</td>\n",
       "      <td>3585</td>\n",
       "      <td>100.000000</td>\n",
       "    </tr>\n",
       "    <tr>\n",
       "      <th>4</th>\n",
       "      <td>square_feet</td>\n",
       "      <td>3529</td>\n",
       "      <td>98.437936</td>\n",
       "    </tr>\n",
       "    <tr>\n",
       "      <th>5</th>\n",
       "      <td>review_scores_accuracy</td>\n",
       "      <td>823</td>\n",
       "      <td>22.956764</td>\n",
       "    </tr>\n",
       "    <tr>\n",
       "      <th>6</th>\n",
       "      <td>review_scores_location</td>\n",
       "      <td>822</td>\n",
       "      <td>22.928870</td>\n",
       "    </tr>\n",
       "    <tr>\n",
       "      <th>7</th>\n",
       "      <td>review_scores_value</td>\n",
       "      <td>821</td>\n",
       "      <td>22.900976</td>\n",
       "    </tr>\n",
       "    <tr>\n",
       "      <th>8</th>\n",
       "      <td>review_scores_checkin</td>\n",
       "      <td>820</td>\n",
       "      <td>22.873082</td>\n",
       "    </tr>\n",
       "    <tr>\n",
       "      <th>9</th>\n",
       "      <td>review_scores_communication</td>\n",
       "      <td>818</td>\n",
       "      <td>22.817294</td>\n",
       "    </tr>\n",
       "    <tr>\n",
       "      <th>10</th>\n",
       "      <td>review_scores_cleanliness</td>\n",
       "      <td>818</td>\n",
       "      <td>22.817294</td>\n",
       "    </tr>\n",
       "    <tr>\n",
       "      <th>11</th>\n",
       "      <td>review_scores_rating</td>\n",
       "      <td>813</td>\n",
       "      <td>22.677824</td>\n",
       "    </tr>\n",
       "    <tr>\n",
       "      <th>12</th>\n",
       "      <td>reviews_per_month</td>\n",
       "      <td>756</td>\n",
       "      <td>21.087866</td>\n",
       "    </tr>\n",
       "    <tr>\n",
       "      <th>13</th>\n",
       "      <td>bathrooms</td>\n",
       "      <td>14</td>\n",
       "      <td>0.390516</td>\n",
       "    </tr>\n",
       "    <tr>\n",
       "      <th>14</th>\n",
       "      <td>bedrooms</td>\n",
       "      <td>10</td>\n",
       "      <td>0.278940</td>\n",
       "    </tr>\n",
       "  </tbody>\n",
       "</table>\n",
       "</div>"
      ],
      "text/plain": [
       "            numerical attributes  nulls  % of nulls\n",
       "0               has_availability   3585  100.000000\n",
       "1             jurisdiction_names   3585  100.000000\n",
       "2                        license   3585  100.000000\n",
       "3   neighbourhood_group_cleansed   3585  100.000000\n",
       "4                    square_feet   3529   98.437936\n",
       "5         review_scores_accuracy    823   22.956764\n",
       "6         review_scores_location    822   22.928870\n",
       "7            review_scores_value    821   22.900976\n",
       "8          review_scores_checkin    820   22.873082\n",
       "9    review_scores_communication    818   22.817294\n",
       "10     review_scores_cleanliness    818   22.817294\n",
       "11          review_scores_rating    813   22.677824\n",
       "12             reviews_per_month    756   21.087866\n",
       "13                     bathrooms     14    0.390516\n",
       "14                      bedrooms     10    0.278940"
      ]
     },
     "execution_count": 83,
     "metadata": {},
     "output_type": "execute_result"
    }
   ],
   "source": [
    "# Create a table of missing numerical data with percentage\n",
    "num_null_total = num_attribs.isnull().sum().sort_values(ascending=False)\n",
    "num_null_pct = (num_attribs.isnull().sum() / num_attribs.isnull().count() * 100).sort_values(ascending=False)\n",
    "num_nulls = pd.concat([num_null_total, num_null_pct], axis=1, keys=['nulls', '% of nulls']).reset_index().rename(columns={'index' : 'numerical attributes'})\n",
    "num_nulls.head(15)"
   ]
  },
  {
   "cell_type": "code",
   "execution_count": 84,
   "id": "9fbbaf01-6aef-4ece-aff6-d37fe863ed95",
   "metadata": {},
   "outputs": [
    {
     "name": "stdout",
     "output_type": "stream",
     "text": [
      "Saving figure num_nulls\n"
     ]
    },
    {
     "data": {
      "image/png": "[encoded data removed]",
      "text/plain": [
       "<Figure size 720x720 with 1 Axes>"
      ]
     },
     "metadata": {
      "needs_background": "light"
     },
     "output_type": "display_data"
    }
   ],
   "source": [
    "# Plot % of null values in numercial variables\n",
    "num_nulls.plot.barh(figsize=(10,10), x='numerical attributes', y='% of nulls', color='coral')\n",
    "save_fig('num_nulls')\n",
    "plt.show()"
   ]
  },
  {
   "cell_type": "code",
   "execution_count": 85,
   "id": "457227e7-e353-4234-af70-ac427580faf4",
   "metadata": {},
   "outputs": [
    {
     "name": "stdout",
     "output_type": "stream",
     "text": [
      "Saving figure attribute_histogram_plots\n"
     ]
    },
    {
     "data": {
      "image/png": "[encoded data removed]",
      "text/plain": [
       "<Figure size 1080x1080 with 36 Axes>"
      ]
     },
     "metadata": {
      "needs_background": "light"
     },
     "output_type": "display_data"
    }
   ],
   "source": [
    "# Plot histograms of numerical attributes\n",
    "\n",
    "listings.hist(bins=50, figsize=(15,15))\n",
    "save_fig(\"attribute_histogram_plots\")\n",
    "plt.show()"
   ]
  },
  {
   "cell_type": "code",
   "execution_count": 86,
   "id": "ae6544f1-438b-4c96-b06d-1346e6fa8dd8",
   "metadata": {},
   "outputs": [
    {
     "data": {
      "text/plain": [
       "['neighbourhood_group_cleansed',\n",
       " 'square_feet',\n",
       " 'weekly_price',\n",
       " 'monthly_price',\n",
       " 'has_availability',\n",
       " 'license',\n",
       " 'jurisdiction_names']"
      ]
     },
     "execution_count": 86,
     "metadata": {},
     "output_type": "execute_result"
    }
   ],
   "source": [
    "# Provide a set of columns with more than 75% of the values missing\n",
    "list(listings.columns[listings.isnull().mean() > 0.75])"
   ]
  },
  {
   "cell_type": "code",
   "execution_count": 87,
   "id": "daa6b514-c5d8-4cda-a34a-344db7741b85",
   "metadata": {},
   "outputs": [],
   "source": [
    "# Remove price values above $500\n",
    "listings = listings[listings['price'] <= 500]"
   ]
  },
  {
   "cell_type": "code",
   "execution_count": 88,
   "id": "6d5e1641-47ab-4640-ae5b-dbddb032d534",
   "metadata": {},
   "outputs": [],
   "source": [
    "# Drop columns that have more than 75% missing values and/or are not important for my analysis\n",
    "update_listings = listings[['latitude', 'longitude', 'neighbourhood_cleansed', 'accommodates', 'room_type', 'bed_type',\n",
    "                            'price', 'guests_included', 'extra_people', 'availability_365', 'minimum_nights', 'maximum_nights',\n",
    "                            'review_scores_rating', 'review_scores_accuracy', 'review_scores_cleanliness', 'review_scores_checkin',\n",
    "                            'review_scores_communication', 'review_scores_location', 'review_scores_value',\n",
    "                            'number_of_reviews', 'instant_bookable', 'cancellation_policy', 'calculated_host_listings_count']]"
   ]
  },
  {
   "cell_type": "code",
   "execution_count": 89,
   "id": "a1877bfe-5743-45c5-9731-6c0355198ece",
   "metadata": {},
   "outputs": [],
   "source": [
    "# Convert dollar values to number\n",
    "update_listings['extra_people'] = update_listings['extra_people'].replace('\\$|,', '', regex=True)\n",
    "update_listings['extra_people'] = pd.to_numeric(update_listings['extra_people'])"
   ]
  },
  {
   "cell_type": "code",
   "execution_count": 90,
   "id": "8a0dde76-611f-4617-a6a6-02de43500eeb",
   "metadata": {},
   "outputs": [
    {
     "data": {
      "text/html": [
       "<div>\n",
       "<style scoped>\n",
       "    .dataframe tbody tr th:only-of-type {\n",
       "        vertical-align: middle;\n",
       "    }\n",
       "\n",
       "    .dataframe tbody tr th {\n",
       "        vertical-align: top;\n",
       "    }\n",
       "\n",
       "    .dataframe thead th {\n",
       "        text-align: right;\n",
       "    }\n",
       "</style>\n",
       "<table border=\"1\" class=\"dataframe\">\n",
       "  <thead>\n",
       "    <tr style=\"text-align: right;\">\n",
       "      <th></th>\n",
       "      <th>latitude</th>\n",
       "      <th>longitude</th>\n",
       "      <th>neighbourhood_cleansed</th>\n",
       "      <th>accommodates</th>\n",
       "      <th>room_type</th>\n",
       "      <th>bed_type</th>\n",
       "      <th>price</th>\n",
       "      <th>guests_included</th>\n",
       "      <th>extra_people</th>\n",
       "      <th>availability_365</th>\n",
       "      <th>...</th>\n",
       "      <th>review_scores_accuracy</th>\n",
       "      <th>review_scores_cleanliness</th>\n",
       "      <th>review_scores_checkin</th>\n",
       "      <th>review_scores_communication</th>\n",
       "      <th>review_scores_location</th>\n",
       "      <th>review_scores_value</th>\n",
       "      <th>number_of_reviews</th>\n",
       "      <th>instant_bookable</th>\n",
       "      <th>cancellation_policy</th>\n",
       "      <th>calculated_host_listings_count</th>\n",
       "    </tr>\n",
       "  </thead>\n",
       "  <tbody>\n",
       "    <tr>\n",
       "      <th>0</th>\n",
       "      <td>42.282619</td>\n",
       "      <td>-71.133068</td>\n",
       "      <td>Roslindale</td>\n",
       "      <td>4</td>\n",
       "      <td>Entire home/apt</td>\n",
       "      <td>Real Bed</td>\n",
       "      <td>250.0</td>\n",
       "      <td>1</td>\n",
       "      <td>0.0</td>\n",
       "      <td>0</td>\n",
       "      <td>...</td>\n",
       "      <td>NaN</td>\n",
       "      <td>NaN</td>\n",
       "      <td>NaN</td>\n",
       "      <td>NaN</td>\n",
       "      <td>NaN</td>\n",
       "      <td>NaN</td>\n",
       "      <td>0</td>\n",
       "      <td>f</td>\n",
       "      <td>moderate</td>\n",
       "      <td>1</td>\n",
       "    </tr>\n",
       "    <tr>\n",
       "      <th>1</th>\n",
       "      <td>42.286241</td>\n",
       "      <td>-71.134374</td>\n",
       "      <td>Roslindale</td>\n",
       "      <td>2</td>\n",
       "      <td>Private room</td>\n",
       "      <td>Real Bed</td>\n",
       "      <td>65.0</td>\n",
       "      <td>0</td>\n",
       "      <td>0.0</td>\n",
       "      <td>359</td>\n",
       "      <td>...</td>\n",
       "      <td>10.0</td>\n",
       "      <td>9.0</td>\n",
       "      <td>10.0</td>\n",
       "      <td>10.0</td>\n",
       "      <td>9.0</td>\n",
       "      <td>9.0</td>\n",
       "      <td>36</td>\n",
       "      <td>t</td>\n",
       "      <td>moderate</td>\n",
       "      <td>1</td>\n",
       "    </tr>\n",
       "    <tr>\n",
       "      <th>2</th>\n",
       "      <td>42.292438</td>\n",
       "      <td>-71.135765</td>\n",
       "      <td>Roslindale</td>\n",
       "      <td>2</td>\n",
       "      <td>Private room</td>\n",
       "      <td>Real Bed</td>\n",
       "      <td>65.0</td>\n",
       "      <td>1</td>\n",
       "      <td>20.0</td>\n",
       "      <td>319</td>\n",
       "      <td>...</td>\n",
       "      <td>10.0</td>\n",
       "      <td>9.0</td>\n",
       "      <td>10.0</td>\n",
       "      <td>10.0</td>\n",
       "      <td>9.0</td>\n",
       "      <td>10.0</td>\n",
       "      <td>41</td>\n",
       "      <td>f</td>\n",
       "      <td>moderate</td>\n",
       "      <td>1</td>\n",
       "    </tr>\n",
       "    <tr>\n",
       "      <th>3</th>\n",
       "      <td>42.281106</td>\n",
       "      <td>-71.121021</td>\n",
       "      <td>Roslindale</td>\n",
       "      <td>4</td>\n",
       "      <td>Private room</td>\n",
       "      <td>Real Bed</td>\n",
       "      <td>75.0</td>\n",
       "      <td>2</td>\n",
       "      <td>25.0</td>\n",
       "      <td>98</td>\n",
       "      <td>...</td>\n",
       "      <td>10.0</td>\n",
       "      <td>10.0</td>\n",
       "      <td>10.0</td>\n",
       "      <td>10.0</td>\n",
       "      <td>10.0</td>\n",
       "      <td>10.0</td>\n",
       "      <td>1</td>\n",
       "      <td>f</td>\n",
       "      <td>moderate</td>\n",
       "      <td>1</td>\n",
       "    </tr>\n",
       "    <tr>\n",
       "      <th>4</th>\n",
       "      <td>42.284512</td>\n",
       "      <td>-71.136258</td>\n",
       "      <td>Roslindale</td>\n",
       "      <td>2</td>\n",
       "      <td>Private room</td>\n",
       "      <td>Real Bed</td>\n",
       "      <td>79.0</td>\n",
       "      <td>1</td>\n",
       "      <td>0.0</td>\n",
       "      <td>334</td>\n",
       "      <td>...</td>\n",
       "      <td>10.0</td>\n",
       "      <td>10.0</td>\n",
       "      <td>10.0</td>\n",
       "      <td>10.0</td>\n",
       "      <td>9.0</td>\n",
       "      <td>10.0</td>\n",
       "      <td>29</td>\n",
       "      <td>f</td>\n",
       "      <td>flexible</td>\n",
       "      <td>1</td>\n",
       "    </tr>\n",
       "  </tbody>\n",
       "</table>\n",
       "<p>5 rows × 23 columns</p>\n",
       "</div>"
      ],
      "text/plain": [
       "    latitude  longitude neighbourhood_cleansed  accommodates        room_type  \\\n",
       "0  42.282619 -71.133068             Roslindale             4  Entire home/apt   \n",
       "1  42.286241 -71.134374             Roslindale             2     Private room   \n",
       "2  42.292438 -71.135765             Roslindale             2     Private room   \n",
       "3  42.281106 -71.121021             Roslindale             4     Private room   \n",
       "4  42.284512 -71.136258             Roslindale             2     Private room   \n",
       "\n",
       "   bed_type  price  guests_included  extra_people  availability_365  ...  \\\n",
       "0  Real Bed  250.0                1           0.0                 0  ...   \n",
       "1  Real Bed   65.0                0           0.0               359  ...   \n",
       "2  Real Bed   65.0                1          20.0               319  ...   \n",
       "3  Real Bed   75.0                2          25.0                98  ...   \n",
       "4  Real Bed   79.0                1           0.0               334  ...   \n",
       "\n",
       "   review_scores_accuracy  review_scores_cleanliness  review_scores_checkin  \\\n",
       "0                     NaN                        NaN                    NaN   \n",
       "1                    10.0                        9.0                   10.0   \n",
       "2                    10.0                        9.0                   10.0   \n",
       "3                    10.0                       10.0                   10.0   \n",
       "4                    10.0                       10.0                   10.0   \n",
       "\n",
       "   review_scores_communication  review_scores_location  review_scores_value  \\\n",
       "0                          NaN                     NaN                  NaN   \n",
       "1                         10.0                     9.0                  9.0   \n",
       "2                         10.0                     9.0                 10.0   \n",
       "3                         10.0                    10.0                 10.0   \n",
       "4                         10.0                     9.0                 10.0   \n",
       "\n",
       "   number_of_reviews  instant_bookable  cancellation_policy  \\\n",
       "0                  0                 f             moderate   \n",
       "1                 36                 t             moderate   \n",
       "2                 41                 f             moderate   \n",
       "3                  1                 f             moderate   \n",
       "4                 29                 f             flexible   \n",
       "\n",
       "   calculated_host_listings_count  \n",
       "0                               1  \n",
       "1                               1  \n",
       "2                               1  \n",
       "3                               1  \n",
       "4                               1  \n",
       "\n",
       "[5 rows x 23 columns]"
      ]
     },
     "execution_count": 90,
     "metadata": {},
     "output_type": "execute_result"
    }
   ],
   "source": [
    "update_listings.head()"
   ]
  },
  {
   "cell_type": "code",
   "execution_count": 91,
   "id": "7b95ac1b-74f4-4df6-a877-66ee78006eee",
   "metadata": {},
   "outputs": [
    {
     "name": "stdout",
     "output_type": "stream",
     "text": [
      "<class 'pandas.core.frame.DataFrame'>\n",
      "Int64Index: 3519 entries, 0 to 3584\n",
      "Data columns (total 23 columns):\n",
      " #   Column                          Non-Null Count  Dtype  \n",
      "---  ------                          --------------  -----  \n",
      " 0   latitude                        3519 non-null   float64\n",
      " 1   longitude                       3519 non-null   float64\n",
      " 2   neighbourhood_cleansed          3519 non-null   object \n",
      " 3   accommodates                    3519 non-null   int64  \n",
      " 4   room_type                       3519 non-null   object \n",
      " 5   bed_type                        3519 non-null   object \n",
      " 6   price                           3519 non-null   float64\n",
      " 7   guests_included                 3519 non-null   int64  \n",
      " 8   extra_people                    3519 non-null   float64\n",
      " 9   availability_365                3519 non-null   int64  \n",
      " 10  minimum_nights                  3519 non-null   int64  \n",
      " 11  maximum_nights                  3519 non-null   int64  \n",
      " 12  review_scores_rating            2731 non-null   float64\n",
      " 13  review_scores_accuracy          2721 non-null   float64\n",
      " 14  review_scores_cleanliness       2726 non-null   float64\n",
      " 15  review_scores_checkin           2724 non-null   float64\n",
      " 16  review_scores_communication     2726 non-null   float64\n",
      " 17  review_scores_location          2722 non-null   float64\n",
      " 18  review_scores_value             2723 non-null   float64\n",
      " 19  number_of_reviews               3519 non-null   int64  \n",
      " 20  instant_bookable                3519 non-null   object \n",
      " 21  cancellation_policy             3519 non-null   object \n",
      " 22  calculated_host_listings_count  3519 non-null   int64  \n",
      "dtypes: float64(11), int64(7), object(5)\n",
      "memory usage: 659.8+ KB\n"
     ]
    }
   ],
   "source": [
    "update_listings.info()"
   ]
  },
  {
   "cell_type": "markdown",
   "id": "f0275d08-2db1-433e-a8ce-35375cedab50",
   "metadata": {},
   "source": [
    "# Q1: What's it like staying in Boston?"
   ]
  },
  {
   "cell_type": "code",
   "execution_count": null,
   "id": "c6427e20-4434-4da0-963c-5526eebc7cfc",
   "metadata": {},
   "outputs": [],
   "source": [
    "# Neighborhoods with the most listings\n",
    "plt.figure(figsize=(8,7))\n",
    "plt.title('Which neighborhoods offer more Airbnb choices?')\n",
    "update_listings.groupby('neighbourhood_cleansed')['price'].count().sort_values(ascending=False).plot(kind='bar', color='khaki')\n",
    "plt.xlabel('neighborhood')\n",
    "plt.ylabel('number of listings')\n",
    "save_fig(\"neighborhoods\")\n",
    "plt.show()"
   ]
  },
  {
   "cell_type": "code",
   "execution_count": null,
   "id": "45b41866-4285-4f76-ae9f-3b6064093df7",
   "metadata": {},
   "outputs": [],
   "source": [
    "# Five most expensive neighborhoods by avarage price\n",
    "plt.figure(figsize=(8,7))\n",
    "plt.title('Top 5 expensive neighborhoods by average price')\n",
    "update_listings.groupby('neighbourhood_cleansed')['price'].mean().sort_values(ascending = False).head(5).plot(kind='bar', color='violet')\n",
    "plt.xlabel('neighborhood')\n",
    "plt.ylabel('average price')\n",
    "save_fig(\"most_expensive_neighborhoods\")\n",
    "plt.show()"
   ]
  },
  {
   "cell_type": "code",
   "execution_count": null,
   "id": "bf2aad9a-0b2c-49a7-8931-c29d38663783",
   "metadata": {},
   "outputs": [],
   "source": [
    "# Plot geographical data\n",
    "update_listings.plot(kind=\"scatter\", x=\"longitude\", y=\"latitude\", alpha=0.4, c=\"price\", cmap=plt.get_cmap(\"jet\"), figsize=(10,7), colorbar=True, sharex=False)\n",
    "plt.title('Boston Airbnb listing prices')\n",
    "save_fig(\"listing_prices_scatterplot\")\n",
    "plt.show()"
   ]
  },
  {
   "cell_type": "code",
   "execution_count": null,
   "id": "873822d7-6eef-4123-9c35-4fe642f3895b",
   "metadata": {},
   "outputs": [],
   "source": [
    "# Join all descriptions of each neighborhood:\n",
    "text = listings[['neighbourhood_cleansed', 'neighborhood_overview']]\n",
    "\n",
    "# Now I'll combine all descriptions into one big text and create a big fat cloud to see which characteristics are most common in these neighborhoods\n",
    "\n",
    "update_text = \" \".join(str(desc) for desc in text['neighborhood_overview'])\n",
    "print (\"There are {} words in the combination of all descriptions.\".format(len(update_text)))\n",
    "\n",
    "# Create a stopword list\n",
    "stopwords = set(STOPWORDS)\n",
    "stopwords.update(['Airbnb', 'nan', 'Boston', 'neighborhood', 'Roslindale', 'Jamaica Plain', 'Mission Hill', 'Longwood Medical Area', 'Bay Village', 'Leather District',\n",
    "                  'Chinatown', 'North End', 'Roxbury', 'South End', 'Back Bay', 'East Boston', 'Charlestown', 'West End', 'Beacon Hill', 'Downtown',\n",
    "                  'Fenway', 'Brighton', 'West Roxbury', 'Hyde Park', 'Mattapan', 'Dorchester', 'South Boston Waterfront', 'South Boston', 'Allston'])\n",
    "\n",
    "# Create and generate a word cloud image:\n",
    "wordcloud = WordCloud(stopwords=stopwords, max_font_size=50, max_words=100, collocations=False, background_color=\"white\").generate(update_text)\n",
    "\n",
    "# Display the generated image:\n",
    "plt.imshow(wordcloud, interpolation='bilinear')\n",
    "plt.axis(\"off\")\n",
    "wordcloud.to_file(\"images/DSND_Project_1/neighborhood_wordcloud.png\")\n",
    "plt.show()"
   ]
  },
  {
   "cell_type": "markdown",
   "id": "273b9ac2-545c-4fb5-9e2b-9fffddf3a7ab",
   "metadata": {
    "tags": []
   },
   "source": [
    "# Q2: How do people rate Boston Airbnbs in general?"
   ]
  },
  {
   "cell_type": "code",
   "execution_count": null,
   "id": "87892829-524e-4185-be5b-30f5dc0205ed",
   "metadata": {},
   "outputs": [],
   "source": [
    "reviews = pd.read_csv('./reviews.csv')"
   ]
  },
  {
   "cell_type": "code",
   "execution_count": null,
   "id": "b6798dfa-deb3-4d99-a134-7b015443189a",
   "metadata": {},
   "outputs": [],
   "source": [
    "reviews.head()"
   ]
  },
  {
   "cell_type": "code",
   "execution_count": null,
   "id": "3c6de1c3-7262-400c-b98c-50ed8a828f7a",
   "metadata": {},
   "outputs": [],
   "source": [
    "reviews.info()"
   ]
  },
  {
   "cell_type": "code",
   "execution_count": null,
   "id": "31efacfe-ed36-432c-939b-ca1446bfba4a",
   "metadata": {},
   "outputs": [],
   "source": [
    "print(\"There are {} observations and {} features in this dataset. \\n\".format(reviews.shape[0], reviews.shape[1]))\n",
    "\n",
    "print(\"There are {} numerical features in this dataset such as {}. \\n\".format(len(reviews.select_dtypes(['float', 'int']).columns),\n",
    "                                                                           \", \".join(list(reviews.select_dtypes(['float', 'int']).columns)[0:5])))\n",
    "\n",
    "print(\"There are {} categorical features in this dataset such as {}. \\n\".format(len(reviews.select_dtypes(['object']).columns),\n",
    "                                                                           \", \".join(list(reviews.select_dtypes(['object']).columns)[0:5])))"
   ]
  },
  {
   "cell_type": "code",
   "execution_count": null,
   "id": "c91474dd-061a-436e-88b3-68ea86cf4839",
   "metadata": {},
   "outputs": [],
   "source": [
    "# Drop rows with missing comments\n",
    "reviews.dropna(subset=['comments'], axis=0, inplace=True)\n",
    "\n",
    "# Use TextBlob for sentiment analysis\n",
    "reviews['polarity'] = ''\n",
    "\n",
    "for i, x in reviews['comments'].iteritems():\n",
    "    label = TextBlob(x)\n",
    "    reviews['polarity'][i] = label.sentiment.polarity\n",
    "    reviews['polarity'] = pd.to_numeric(reviews['polarity'])"
   ]
  },
  {
   "cell_type": "code",
   "execution_count": null,
   "id": "1a92b4f8-a25e-4121-8321-0036669d11e7",
   "metadata": {},
   "outputs": [],
   "source": [
    "# Create a function to give polarity semantic labels\n",
    "def polarity_to_label(x):\n",
    "    \"\"\"\n",
    "    Parametrs:\n",
    "    x (float): the polarity of a comment\n",
    "    \n",
    "    Returns:\n",
    "    One of the three labels \"good\", \"neutral\", and \"bad\" which represents polarity ranging [-1,1]\n",
    "\n",
    "    \"\"\"\n",
    "    if (x < 0):\n",
    "        return 'bad'\n",
    "    elif (x == 0):\n",
    "        return 'neutral'\n",
    "    elif (0 < x):\n",
    "        return 'good'\n",
    "    \n",
    "reviews['label'] = reviews['polarity'].apply(polarity_to_label)"
   ]
  },
  {
   "cell_type": "code",
   "execution_count": null,
   "id": "9c31d36a-e0cc-4c36-9153-65e5aff6cb95",
   "metadata": {},
   "outputs": [],
   "source": [
    "reviews.head()"
   ]
  },
  {
   "cell_type": "code",
   "execution_count": null,
   "id": "1b7ec036-a95b-42f5-a3af-66fd5aaf7684",
   "metadata": {},
   "outputs": [],
   "source": [
    "plt.figure(figsize=(8,5))\n",
    "plt.title('Good, bad, and neutral reviews')\n",
    "reviews['label'].value_counts().plot(kind='pie', autopct='%1.2f%%')\n",
    "save_fig('labels')\n",
    "plt.ylabel('');"
   ]
  },
  {
   "cell_type": "code",
   "execution_count": null,
   "id": "766296b8-e0a6-4271-a303-da8bb3003829",
   "metadata": {},
   "outputs": [],
   "source": [
    "reviews[reviews['label'] == 'good']['listing_id'].index"
   ]
  },
  {
   "cell_type": "code",
   "execution_count": null,
   "id": "35685ac0-0442-4cf1-906e-a7cbcec7d2dd",
   "metadata": {},
   "outputs": [],
   "source": [
    "# Let's read a random good comment\n",
    "reviews.loc[9]['comments']"
   ]
  },
  {
   "cell_type": "code",
   "execution_count": null,
   "id": "a473bcf3-0215-4134-ac96-af604f4cb54d",
   "metadata": {},
   "outputs": [],
   "source": [
    "reviews[reviews['label'] == 'bad']['listing_id'].index"
   ]
  },
  {
   "cell_type": "code",
   "execution_count": null,
   "id": "fb0334ca-ba46-4000-b304-5b8e285fb13f",
   "metadata": {},
   "outputs": [],
   "source": [
    "# Let's read a random bad comment\n",
    "reviews.loc[59]['comments']"
   ]
  },
  {
   "cell_type": "code",
   "execution_count": null,
   "id": "b714a4db-9f97-4c7a-af17-e15affd9be74",
   "metadata": {},
   "outputs": [],
   "source": [
    "# Join all descriptions of each bad comment:\n",
    "bad_comments = reviews[reviews['label'] == 'bad']\n",
    "comments = bad_comments[['listing_id', 'comments']]\n",
    "\n",
    "# Now I'll combine all descriptions into one big text and create a big fat cloud to see which characteristics are most common in these bad comments\n",
    "update_comments = \" \".join(str(desc) for desc in comments['comments'])\n",
    "print (\"There are {} words in the combination of all descriptions.\".format(len(update_comments)))\n",
    "\n",
    "# Create a stopword list\n",
    "stopwords = set(STOPWORDS)\n",
    "stopwords.update(['Airbnb', 'nan', 'Boston', 'neighborhood', 'apartment'])\n",
    "\n",
    "# Create and generate a word cloud image:\n",
    "wordcloud = WordCloud(stopwords=stopwords, max_font_size=50, max_words=100, collocations=False, background_color=\"white\").generate(update_comments)\n",
    "\n",
    "# Display the generated image:\n",
    "plt.imshow(wordcloud, interpolation='bilinear')\n",
    "plt.axis(\"off\")\n",
    "wordcloud.to_file(\"images/DSND_Project_1/comments.png\")\n",
    "plt.show()"
   ]
  },
  {
   "cell_type": "markdown",
   "id": "3a6ad732-993e-4925-ad5a-3e8f7799daec",
   "metadata": {
    "tags": []
   },
   "source": [
    "# Q3: What are the important features that influence price?"
   ]
  },
  {
   "cell_type": "code",
   "execution_count": null,
   "id": "356c187d-ddbc-4b3b-b3db-921488a1bf4b",
   "metadata": {},
   "outputs": [],
   "source": [
    "# Drop neighborhood column\n",
    "update_listings.drop('neighbourhood_cleansed', axis=1, inplace=True)"
   ]
  },
  {
   "cell_type": "code",
   "execution_count": null,
   "id": "23d026c7-e5ab-4736-b210-a07c700158b6",
   "metadata": {},
   "outputs": [],
   "source": [
    "update_listings.head()"
   ]
  },
  {
   "cell_type": "code",
   "execution_count": null,
   "id": "8c332f79-9fd1-4e31-8617-55109724e70f",
   "metadata": {},
   "outputs": [],
   "source": [
    "# Preprocess categorical features\n",
    "cat_cols = list(update_listings.select_dtypes(include=['object']).columns)\n",
    "\n",
    "one_hot = OneHotEncoder(handle_unknown='error', sparse=False, drop='first')\n",
    "cat_1hot = one_hot.fit_transform(update_listings[cat_cols])\n",
    "cat_1hot"
   ]
  },
  {
   "cell_type": "code",
   "execution_count": null,
   "id": "ba0357c4-c3fc-4347-86ac-93161f3c8983",
   "metadata": {},
   "outputs": [],
   "source": [
    "new_cat_cols = one_hot.get_feature_names(cat_cols) # Get feature names\n",
    "new_cat_cols"
   ]
  },
  {
   "cell_type": "code",
   "execution_count": null,
   "id": "eb9c4a1a-b853-42a4-9c28-f90d8d1de12c",
   "metadata": {},
   "outputs": [],
   "source": [
    "# Standardize numeric features\n",
    "num_cols = list(update_listings.select_dtypes(include=['number']).columns)\n",
    "num_cols.remove('price')\n",
    "\n",
    "scaler = StandardScaler()\n",
    "num_tr = scaler.fit_transform(update_listings[num_cols])\n",
    "num_tr"
   ]
  },
  {
   "cell_type": "code",
   "execution_count": null,
   "id": "42e9e653-88a3-4a8a-a4ea-cbdc8456fb6c",
   "metadata": {},
   "outputs": [],
   "source": [
    "# Create final process pipeline\n",
    "cat_pipe = Pipeline([('one-hot-encoder', OneHotEncoder(handle_unknown='error', sparse=False, drop='first'))])\n",
    "num_pipe = Pipeline([('imputer', SimpleImputer(missing_values=np.nan, strategy='median')), ('normalize', StandardScaler())])\n",
    "\n",
    "full_pipeline = ColumnTransformer([('cat', cat_pipe, cat_cols), ('num', num_pipe, num_cols)], remainder='passthrough') # for price\n",
    "\n",
    "transformed_values = full_pipeline.fit_transform(update_listings)\n",
    "transformed_values"
   ]
  },
  {
   "cell_type": "code",
   "execution_count": null,
   "id": "1bf939d4-9a37-419c-9ed2-b8c46970aa9a",
   "metadata": {},
   "outputs": [],
   "source": [
    "full_cols = np.concatenate([new_cat_cols, num_cols, ['price']])\n",
    "full_cols"
   ]
  },
  {
   "cell_type": "code",
   "execution_count": null,
   "id": "37f3fb7f-c3a7-4d20-83be-19fdbec185b6",
   "metadata": {},
   "outputs": [],
   "source": [
    "full_listings = pd.DataFrame(transformed_values, columns=full_cols)\n",
    "full_listings.head()"
   ]
  },
  {
   "cell_type": "code",
   "execution_count": null,
   "id": "b7be7301-4ccf-4596-b211-1f41071d60b6",
   "metadata": {},
   "outputs": [],
   "source": [
    "plt.figure(figsize=(20,18))\n",
    "\n",
    "corr = full_listings.corr()\n",
    "sns.heatmap(round(corr,2), annot=True)\n",
    "plt.title('Correlations to price')\n",
    "save_fig('correlations_to_price')\n",
    "plt.show()"
   ]
  },
  {
   "cell_type": "markdown",
   "id": "11eaaa3a-2a69-4d28-ac86-5ef9e2221a6d",
   "metadata": {},
   "source": [
    "# 4. Data preparation"
   ]
  },
  {
   "cell_type": "markdown",
   "id": "f3f4e08b-f92d-4be6-8be6-96526dab8849",
   "metadata": {},
   "source": [
    "In the above section, the necessary data pre-processing has been done for us to be able to create the predictive model. Following, we need to select features that are positively correlated with price at a score higher than the threshold 0 for training machine learning models. Then, divide the data into the response vector, which in this case is the average price of Boston Airbnb’s, and the explanatory matrix, which in this case are all the remaining 23 features. It is a must to divide into the dataset into train and test sets and train the algorithms with the train set before predicting the response of the test set and evaluate."
   ]
  },
  {
   "cell_type": "markdown",
   "id": "8269706e-ddf8-4e7f-ade7-b7358dc4301d",
   "metadata": {},
   "source": [
    "# 5. Data modeling"
   ]
  },
  {
   "cell_type": "markdown",
   "id": "5e6ff3f4-7324-4d30-9a4a-3773ccd2c448",
   "metadata": {
    "tags": []
   },
   "source": [
    "## Prepare data for predictions"
   ]
  },
  {
   "cell_type": "markdown",
   "id": "7d8bee2f-e03b-4519-a809-332dff6d84e9",
   "metadata": {
    "tags": []
   },
   "source": [
    "### Feature selection"
   ]
  },
  {
   "cell_type": "code",
   "execution_count": null,
   "id": "9f030a36-b916-48b7-8538-dd682c96fcb8",
   "metadata": {},
   "outputs": [],
   "source": [
    "plt.figure(figsize=(9,6))\n",
    "\n",
    "price_corr = full_listings.corr()['price'].drop('price')\n",
    "price_corr.sort_values().plot(kind='barh')\n",
    "\n",
    "plt.title('Correlations to price')\n",
    "save_fig('feature_selection')\n",
    "plt.show()"
   ]
  },
  {
   "cell_type": "code",
   "execution_count": null,
   "id": "e9cf354d-bbee-437d-b74b-b289e124cd1b",
   "metadata": {},
   "outputs": [],
   "source": [
    "# Filtering features with lower absolute value than a threshold\n",
    "\n",
    "threshold = 0.0\n",
    "features = list(price_corr[price_corr<threshold].index.values)\n",
    "print(features)"
   ]
  },
  {
   "cell_type": "code",
   "execution_count": null,
   "id": "4eae3c4e-a9de-466d-af8a-09dad6b18cd8",
   "metadata": {},
   "outputs": [],
   "source": [
    "final_listings = full_listings.drop(columns=full_listings[features], axis=1)\n",
    "final_listings"
   ]
  },
  {
   "cell_type": "code",
   "execution_count": null,
   "id": "0807a67e-7b6a-4187-bd31-c3a06ed9a430",
   "metadata": {},
   "outputs": [],
   "source": [
    "final_listings.info()"
   ]
  },
  {
   "cell_type": "markdown",
   "id": "bf618aac-3aca-4163-b166-505115e29c14",
   "metadata": {},
   "source": [
    "### Split train and test sets"
   ]
  },
  {
   "cell_type": "code",
   "execution_count": null,
   "id": "a2e6d8e7-6975-4406-a230-b9f4a940f33b",
   "metadata": {},
   "outputs": [],
   "source": [
    "X = final_listings.drop('price', axis=1)\n",
    "y = final_listings[['price']]"
   ]
  },
  {
   "cell_type": "code",
   "execution_count": null,
   "id": "8001cd2f-4478-4498-869b-38041e15e0db",
   "metadata": {},
   "outputs": [],
   "source": [
    "X_train, X_test, y_train, y_test = train_test_split(X, y, test_size=.2, random_state=42)\n",
    "\n",
    "print('Training set:', X_train.shape, ',', y_train.shape)\n",
    "print('Test set:', X_test.shape, ',', y_test.shape)"
   ]
  },
  {
   "cell_type": "markdown",
   "id": "2c6bb976-1845-406f-add5-16228eb68df1",
   "metadata": {},
   "source": [
    "## Select and train a model"
   ]
  },
  {
   "cell_type": "markdown",
   "id": "6b34e433-84a5-43dc-bce6-eb0b6024d5f3",
   "metadata": {},
   "source": [
    "### Linear Regression"
   ]
  },
  {
   "cell_type": "code",
   "execution_count": null,
   "id": "0e7c6fd8-bf01-44fd-bbd3-aec012191fe8",
   "metadata": {},
   "outputs": [],
   "source": [
    "# Create Linear Regression model from X_train and y_train\n",
    "lin_reg = LinearRegression()\n",
    "lin_reg.fit(X_train, y_train)\n",
    "\n",
    "# Get predictions from X_test\n",
    "lr_preds = lin_reg.predict(X_test)\n",
    "\n",
    "# Calculate root mean squared error between the y_test and predictions\n",
    "lr_mae = mean_absolute_error(y_test, lr_preds)\n",
    "print(f\"{lr_mae:.3f}\")\n",
    "\n",
    "# Calculate r2 squared score\n",
    "lr_r2_score = r2_score(y_test, lr_preds)\n",
    "print(f\"{lr_r2_score:.3f}\")"
   ]
  },
  {
   "cell_type": "markdown",
   "id": "6bfd163c-d63e-41fc-8592-4e199ff50cbd",
   "metadata": {},
   "source": [
    "### Decision Tree"
   ]
  },
  {
   "cell_type": "code",
   "execution_count": null,
   "id": "6348f9ef-9a7e-44e2-9d6a-f232c9a1c87f",
   "metadata": {},
   "outputs": [],
   "source": [
    "# Create Decision Tree model from X_train and y_train\n",
    "tree_reg = DecisionTreeRegressor(random_state=42)\n",
    "tree_reg.fit(X_train, y_train)\n",
    "\n",
    "# Get predictions from X_test\n",
    "tree_preds = tree_reg.predict(X_test)\n",
    "\n",
    "# Calculate root mean squared error between the y_test and predictions\n",
    "tree_mae = mean_absolute_error(y_test, tree_preds)\n",
    "print(f\"{tree_mae:.3f}\")\n",
    "\n",
    "# Calculate r2 squared score\n",
    "tree_r2_score = r2_score(y_test, tree_preds)\n",
    "print(f\"{tree_r2_score:.3f}\")"
   ]
  },
  {
   "cell_type": "markdown",
   "id": "7d6e47dc-6cb5-410b-a5fd-4893ace3a3d9",
   "metadata": {},
   "source": [
    "### Random Forest Regressor"
   ]
  },
  {
   "cell_type": "code",
   "execution_count": null,
   "id": "35b4231c-19e1-4854-b562-209a9e4679eb",
   "metadata": {},
   "outputs": [],
   "source": [
    "# Create Random Forest model from X_train and y_train\n",
    "rf_reg = RandomForestRegressor(random_state=42)\n",
    "rf_reg.fit(X_train, y_train)\n",
    "\n",
    "# Get predictions from X_test\n",
    "rf_preds = rf_reg.predict(X_test)\n",
    "\n",
    "# Calculate root mean squared error between the y_test and predictions\n",
    "rf_mae = mean_absolute_error(y_test, rf_preds)\n",
    "print(f\"{rf_mae:.3f}\")\n",
    "\n",
    "# Calculate r2 squared score\n",
    "rf_r2_score = r2_score(y_test, rf_preds)\n",
    "print(f\"{rf_r2_score:.3f}\")"
   ]
  },
  {
   "cell_type": "markdown",
   "id": "91e46606-ba6b-424e-a5b7-1d1995213cfb",
   "metadata": {},
   "source": [
    "# 6. Evaluate model performance"
   ]
  },
  {
   "cell_type": "code",
   "execution_count": null,
   "id": "ecedcc64-30af-41ca-85a0-ab0a0a45312d",
   "metadata": {},
   "outputs": [],
   "source": [
    "scores = pd.DataFrame({'R-squared' : [lr_r2_score, tree_r2_score, rf_r2_score],\n",
    "                       'Mean Absolute Error' : [lr_mae, tree_mae, rf_mae], \n",
    "                       'Predicted average price' : [lr_preds.mean(), tree_preds.mean(), rf_preds.mean()]},\n",
    "                      index=['Linear Regression', 'Decision Tree', 'Random Forest'])\n",
    "scores"
   ]
  },
  {
   "cell_type": "code",
   "execution_count": null,
   "id": "bfc4ea06-93a5-4db2-bca5-05c6c1fcc11d",
   "metadata": {},
   "outputs": [],
   "source": [
    "y_test.mean()"
   ]
  },
  {
   "cell_type": "code",
   "execution_count": null,
   "id": "c2f14d9d-c9f0-4849-abb4-5f73b23e8a3e",
   "metadata": {},
   "outputs": [],
   "source": [
    "weights = pd.DataFrame({'feature name' : final_listings.drop(columns=['price']).columns,\n",
    "                        'weights' : rf_reg.feature_importances_}).sort_values('weights', ascending=False)"
   ]
  },
  {
   "cell_type": "code",
   "execution_count": null,
   "id": "d7740c3f-98da-4627-aa91-3d7542ae305b",
   "metadata": {},
   "outputs": [],
   "source": [
    "# Sort feature importance in Random Forest model\n",
    "\n",
    "weights.style.background_gradient(cmap='Blues')"
   ]
  }
 ],
 "metadata": {
  "kernelspec": {
   "display_name": "Python 3 (ipykernel)",
   "language": "python",
   "name": "python3"
  },
  "language_info": {
   "codemirror_mode": {
    "name": "ipython",
    "version": 3
   },
   "file_extension": ".py",
   "mimetype": "text/x-python",
   "name": "python",
   "nbconvert_exporter": "python",
   "pygments_lexer": "ipython3",
   "version": "3.7.12"
  }
 },
 "nbformat": 4,
 "nbformat_minor": 5
}
